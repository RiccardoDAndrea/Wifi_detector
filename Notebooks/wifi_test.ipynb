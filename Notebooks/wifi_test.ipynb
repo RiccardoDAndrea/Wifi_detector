{
 "cells": [
  {
   "cell_type": "code",
   "execution_count": null,
   "id": "1ac34a2d",
   "metadata": {},
   "outputs": [],
   "source": [
    "import subprocess\n",
    "import time"
   ]
  },
  {
   "cell_type": "code",
   "execution_count": 5,
   "id": "8ecc1222",
   "metadata": {},
   "outputs": [
    {
     "name": "stdout",
     "output_type": "stream",
     "text": [
      "\n",
      "📶 Netzwerke sortiert nach Signalstärke:\n",
      "📡: FRITZ!Box 6660 Cable GB (65%)\n",
      "✅ Verbunden: FRITZ!Box 7530 QD (62%)\n",
      "📡: FRITZ!Box 7590 MG (55%)\n",
      "📡: FRITZ!Box 6660 Cable GB (44%)\n",
      "📡: FRITZ!Box 7530 GC (35%)\n",
      "📡: FRITZ!Box 7590 MG (32%)\n",
      "📡: Deinwlan (22%)\n"
     ]
    }
   ],
   "source": [
    "\n",
    "result = subprocess.check_output([\n",
    "    'nmcli', '--colors', 'no', '-t', '-f', 'ssid,signal,active', 'dev', 'wifi'\n",
    "])\n",
    "data = result.decode('utf-8').strip().split('\\n')\n",
    "\n",
    "# Netzwerke als Liste speichern\n",
    "networks = []\n",
    "for line in data:\n",
    "    if ':' in line:\n",
    "        parts = line.split(':')\n",
    "        if len(parts) == 3:\n",
    "            ssid, signal, active = parts\n",
    "            try:\n",
    "                signal_clean = int(signal)\n",
    "                is_active = active.lower() in ['yes', 'ja']\n",
    "                networks.append((ssid, signal_clean, is_active))\n",
    "            except ValueError:\n",
    "                print(f\"⚠️ Fehlerhafte Signalstärke: {signal}\")\n",
    "                \n",
    "# Nach Signalstärke sortieren\n",
    "networks.sort(key=lambda x: x[1], reverse=True)\n",
    "\n",
    "# Ausgabe\n",
    "print(\"\\n📶 Netzwerke sortiert nach Signalstärke:\")\n",
    "for ssid, signal, is_active in networks:\n",
    "    status = \"✅ Verbunden\" if is_active else \"📡\"\n",
    "    print(f\"{status}: {ssid} ({signal}%)\")\n"
   ]
  },
  {
   "cell_type": "code",
   "execution_count": 8,
   "id": "869d2373",
   "metadata": {},
   "outputs": [
    {
     "name": "stdout",
     "output_type": "stream",
     "text": [
      "\n",
      "🔐 WLAN-Profile & Passwörter:\n",
      "\n"
     ]
    }
   ],
   "source": [
    "import subprocess\n",
    "import os\n",
    "\n",
    "def get_wifi_profiles():\n",
    "    result = subprocess.check_output(['nmcli', '-t', '-f', 'NAME,TYPE', 'connection', 'show']).decode('utf-8')\n",
    "    profiles = [line.split(\":\")[0] for line in result.strip().split('\\n') if \":wifi\" in line]\n",
    "    return profiles\n",
    "\n",
    "def get_wifi_password(profile):\n",
    "    path = f\"/etc/NetworkManager/system-connections/{profile}.nmconnection\"\n",
    "\n",
    "    with open(path, 'r') as file:\n",
    "        lines = file.readlines()\n",
    "        for line in lines:\n",
    "            if 'psk=' in line:\n",
    "                return line.split('psk=')[1].strip()\n",
    "\n",
    "\n",
    "# Hauptteil\n",
    "profiles = get_wifi_profiles()\n",
    "print(\"\\n🔐 WLAN-Profile & Passwörter:\\n\")\n",
    "for profile in profiles:\n",
    "    pwd = get_wifi_password(profile)\n",
    "    print(f\"{profile:<30} | {pwd}\")\n"
   ]
  }
 ],
 "metadata": {
  "kernelspec": {
   "display_name": "myvenv",
   "language": "python",
   "name": "python3"
  },
  "language_info": {
   "codemirror_mode": {
    "name": "ipython",
    "version": 3
   },
   "file_extension": ".py",
   "mimetype": "text/x-python",
   "name": "python",
   "nbconvert_exporter": "python",
   "pygments_lexer": "ipython3",
   "version": "3.11.11"
  }
 },
 "nbformat": 4,
 "nbformat_minor": 5
}
