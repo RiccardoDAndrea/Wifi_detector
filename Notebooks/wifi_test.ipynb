{
 "cells": [
  {
   "cell_type": "code",
   "execution_count": 1,
   "id": "1ac34a2d",
   "metadata": {},
   "outputs": [],
   "source": [
    "import subprocess\n",
    "import time"
   ]
  },
  {
   "cell_type": "code",
   "execution_count": 2,
   "id": "f40840e8",
   "metadata": {},
   "outputs": [],
   "source": [
    "result = subprocess.check_output(args=['nmcli', '-t', '-f', 'active,ssid', 'dev', 'wifi'])\n",
    "data = result.decode('utf-8').strip().split('\\n')"
   ]
  },
  {
   "cell_type": "code",
   "execution_count": 3,
   "id": "64935592",
   "metadata": {},
   "outputs": [
    {
     "data": {
      "text/plain": [
       "['\\x1b[32mnein\\x1b[0m:\\x1b[32mFRITZ!Box 7530 QD\\x1b[0m',\n",
       " '\\x1b[32mja\\x1b[0m:\\x1b[33mFRITZ!Box 7530 QD\\x1b[0m',\n",
       " '\\x1b[33mnein\\x1b[0m:\\x1b[33mFRITZ!Box 6660 Cable GB\\x1b[0m',\n",
       " '\\x1b[35mnein\\x1b[0m:\\x1b[35mDeinwlan\\x1b[0m',\n",
       " '\\x1b[35mnein\\x1b[0m:\\x1b[35mFRITZ!Box 7590 MG\\x1b[0m',\n",
       " '\\x1b[35mnein\\x1b[0m:\\x1b[35mFRITZ!Box 6660 Cable GB\\x1b[0m',\n",
       " '\\x1b[35mnein\\x1b[0m:\\x1b[35mFRITZ!Box 7530 GC\\x1b[0m',\n",
       " '\\x1b[35mnein\\x1b[0m:\\x1b[35mFRITZ!Box 7590 MG\\x1b[0m',\n",
       " '\\x1b[36mnein\\x1b[0m:\\x1b[36mFRITZ!Box 6670 DZ\\x1b[0m',\n",
       " '\\x1b[36mnein\\x1b[0m:\\x1b[36mDeinwlan\\x1b[0m']"
      ]
     },
     "execution_count": 3,
     "metadata": {},
     "output_type": "execute_result"
    }
   ],
   "source": [
    "data"
   ]
  },
  {
   "cell_type": "code",
   "execution_count": 14,
   "id": "8ecc1222",
   "metadata": {},
   "outputs": [
    {
     "name": "stdout",
     "output_type": "stream",
     "text": [
      "\n",
      "📶 Netzwerke sortiert nach Signalstärke:\n",
      "✅ Verbunden: FRITZ!Box 7530 QD (72%)\n",
      "📡: FRITZ!Box 6660 Cable GB (42%)\n",
      "📡: FRITZ!Box 7590 MG (32%)\n",
      "📡: Deinwlan (22%)\n"
     ]
    }
   ],
   "source": [
    "import subprocess\n",
    "\n",
    "result = subprocess.check_output([\n",
    "    'nmcli', '--colors', 'no', '-t', '-f', 'ssid,signal,active', 'dev', 'wifi'\n",
    "])\n",
    "data = result.decode('utf-8').strip().split('\\n')\n",
    "\n",
    "# Netzwerke als Liste speichern\n",
    "networks = []\n",
    "for line in data:\n",
    "    if ':' in line:\n",
    "        parts = line.split(':')\n",
    "        if len(parts) == 3:\n",
    "            ssid, signal, active = parts\n",
    "            try:\n",
    "                signal_clean = int(signal)\n",
    "                is_active = active.lower() in ['yes', 'ja']\n",
    "                networks.append((ssid, signal_clean, is_active))\n",
    "            except ValueError:\n",
    "                print(f\"⚠️ Fehlerhafte Signalstärke: {signal}\")\n",
    "                \n",
    "# Nach Signalstärke sortieren\n",
    "networks.sort(key=lambda x: x[1], reverse=True)\n",
    "\n",
    "# Ausgabe\n",
    "print(\"\\n📶 Netzwerke sortiert nach Signalstärke:\")\n",
    "for ssid, signal, is_active in networks:\n",
    "    status = \"✅ Verbunden\" if is_active else \"📡\"\n",
    "    print(f\"{status}: {ssid} ({signal}%)\")\n"
   ]
  },
  {
   "cell_type": "code",
   "execution_count": null,
   "id": "1f2bbc4d",
   "metadata": {},
   "outputs": [
    {
     "name": "stdout",
     "output_type": "stream",
     "text": [
      "['FRITZ!Box 6660 Cable GB', '67', 'nein']\n",
      "['FRITZ!Box 7530 QD', '61', 'ja']\n",
      "['FRITZ!Box 6660 Cable GB', '42', 'nein']\n",
      "['Deinwlan', '25', 'nein']\n"
     ]
    }
   ],
   "source": [
    "import subprocess\n",
    "\n",
    "result = subprocess.check_output([\n",
    "    'nmcli', '--colors', 'no', '-t', '-f', 'ssid,signal,active', 'dev', 'wifi'\n",
    "])\n",
    "data = result.decode('utf-8').strip().split('\\n')\n",
    "\n",
    "# Netzwerke als Liste speichern\n",
    "networks = []\n",
    "for line in data:\n",
    "    if ':' in line:\n",
    "        print(line)\n",
    "        parts = line.split(':')\n",
    "        print(parts)\n",
    "        if len(parts) == 3:\n",
    "            ssid, signal, active = parts\n"
   ]
  },
  {
   "cell_type": "code",
   "execution_count": null,
   "id": "869d2373",
   "metadata": {},
   "outputs": [],
   "source": []
  }
 ],
 "metadata": {
  "kernelspec": {
   "display_name": "myvenv",
   "language": "python",
   "name": "python3"
  },
  "language_info": {
   "codemirror_mode": {
    "name": "ipython",
    "version": 3
   },
   "file_extension": ".py",
   "mimetype": "text/x-python",
   "name": "python",
   "nbconvert_exporter": "python",
   "pygments_lexer": "ipython3",
   "version": "3.11.11"
  }
 },
 "nbformat": 4,
 "nbformat_minor": 5
}
